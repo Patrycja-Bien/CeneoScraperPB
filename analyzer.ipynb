{
 "cells": [
  {
   "cell_type": "markdown",
   "metadata": {},
   "source": [
    "# Ceneo Analyzer\n"
   ]
  },
  {
   "cell_type": "markdown",
   "metadata": {},
   "source": [
    "## Import bibliotek"
   ]
  },
  {
   "cell_type": "code",
   "execution_count": 88,
   "metadata": {},
   "outputs": [],
   "source": [
    "import os\n",
    "import pandas as pd\n",
    "import numpy as np\n",
    "from matplotlib import pyplot as plt"
   ]
  },
  {
   "cell_type": "markdown",
   "metadata": {},
   "source": [
    "## Lista kodów produktów, o których zostały pobrane opinie"
   ]
  },
  {
   "cell_type": "code",
   "execution_count": 89,
   "metadata": {},
   "outputs": [
    {
     "name": "stdout",
     "output_type": "stream",
     "text": [
      "138331381\n",
      "39562616\n"
     ]
    }
   ],
   "source": [
    "print(*[filename.split(\".\")[0] for filename in os.listdir(\"opinions\")], sep = \"\\n\")"
   ]
  },
  {
   "cell_type": "markdown",
   "metadata": {},
   "source": [
    "## Wczytywanie od użytkowanika kodu produktu, dla którego ma zostać przeprowadzona analiza"
   ]
  },
  {
   "cell_type": "code",
   "execution_count": 90,
   "metadata": {},
   "outputs": [],
   "source": [
    "product_id = input(\"Podaj kod produktu: \")"
   ]
  },
  {
   "cell_type": "markdown",
   "metadata": {},
   "source": [
    "## Wczytywanie do obiektu pandas.DataFrame opinii o produkcie o podanym kodzie"
   ]
  },
  {
   "cell_type": "code",
   "execution_count": 98,
   "metadata": {},
   "outputs": [],
   "source": [
    "opinions = pd.read_json(f\"opinions/{product_id}.json\")\n",
    "opinions.stars = opinions.stars.apply(lambda s: s.split(\"/\")[0].replace(\",\",\".\")).astype(float)\n",
    "opinions.recommendations = opinions.recommendations.apply(lambda r: \"Brak rekomendacji\" if r is None else r)"
   ]
  },
  {
   "cell_type": "code",
   "execution_count": null,
   "metadata": {},
   "outputs": [
    {
     "data": {
      "text/html": [
       "<div>\n",
       "<style scoped>\n",
       "    .dataframe tbody tr th:only-of-type {\n",
       "        vertical-align: middle;\n",
       "    }\n",
       "\n",
       "    .dataframe tbody tr th {\n",
       "        vertical-align: top;\n",
       "    }\n",
       "\n",
       "    .dataframe thead th {\n",
       "        text-align: right;\n",
       "    }\n",
       "</style>\n",
       "<table border=\"1\" class=\"dataframe\">\n",
       "  <thead>\n",
       "    <tr style=\"text-align: right;\">\n",
       "      <th></th>\n",
       "      <th>opinion_id</th>\n",
       "      <th>author</th>\n",
       "      <th>recommendations</th>\n",
       "      <th>stars</th>\n",
       "      <th>content</th>\n",
       "      <th>pros</th>\n",
       "      <th>cons</th>\n",
       "      <th>helpful</th>\n",
       "      <th>unhelpful</th>\n",
       "      <th>publish_date</th>\n",
       "      <th>purchase_date</th>\n",
       "    </tr>\n",
       "  </thead>\n",
       "  <tbody>\n",
       "    <tr>\n",
       "      <th>0</th>\n",
       "      <td>3422858</td>\n",
       "      <td>Użytkownik Ceneo</td>\n",
       "      <td>Polecam</td>\n",
       "      <td>5/5</td>\n",
       "      <td>UWAGA, UWAGA do wszystkich zgłaszających probl...</td>\n",
       "      <td>[]</td>\n",
       "      <td>[]</td>\n",
       "      <td>57</td>\n",
       "      <td>7</td>\n",
       "      <td>2015-11-17 17:55:59</td>\n",
       "      <td>None</td>\n",
       "    </tr>\n",
       "    <tr>\n",
       "      <th>1</th>\n",
       "      <td>3529254</td>\n",
       "      <td>Marcin</td>\n",
       "      <td>Polecam</td>\n",
       "      <td>4,5/5</td>\n",
       "      <td>Ogólnie spoko, chociaż telefon po wyjęciu z pu...</td>\n",
       "      <td>[]</td>\n",
       "      <td>[przycisk home - trzeba mocno naciskać]</td>\n",
       "      <td>3</td>\n",
       "      <td>0</td>\n",
       "      <td>2016-01-13 00:44:40</td>\n",
       "      <td>2015-12-27 14:12:05</td>\n",
       "    </tr>\n",
       "    <tr>\n",
       "      <th>2</th>\n",
       "      <td>6706897</td>\n",
       "      <td>zedi</td>\n",
       "      <td>Polecam</td>\n",
       "      <td>4/5</td>\n",
       "      <td>Wady Słaby dźwięk z głośnika głównego - z tyłu...</td>\n",
       "      <td>[ekran nie do zbicia, wyświetlacza:  design:  ...</td>\n",
       "      <td>[bateria lądująca w godzine 100%, czas pracy n...</td>\n",
       "      <td>0</td>\n",
       "      <td>2</td>\n",
       "      <td>2018-03-14 00:45:39</td>\n",
       "      <td>None</td>\n",
       "    </tr>\n",
       "    <tr>\n",
       "      <th>3</th>\n",
       "      <td>3580458</td>\n",
       "      <td>Janek</td>\n",
       "      <td>Polecam</td>\n",
       "      <td>5/5</td>\n",
       "      <td>Smartphone szybki i stabilny. Super ekran doty...</td>\n",
       "      <td>[wyświetlacza:  design:  żywotność]</td>\n",
       "      <td>[]</td>\n",
       "      <td>37</td>\n",
       "      <td>16</td>\n",
       "      <td>2016-02-12 11:13:47</td>\n",
       "      <td>2016-01-25 12:30:40</td>\n",
       "    </tr>\n",
       "    <tr>\n",
       "      <th>4</th>\n",
       "      <td>3287614</td>\n",
       "      <td>maciej</td>\n",
       "      <td>Polecam</td>\n",
       "      <td>4/5</td>\n",
       "      <td>Generalnie bardzo dobry smartfon, moim zdaniem...</td>\n",
       "      <td>[funkcjonalność]</td>\n",
       "      <td>[]</td>\n",
       "      <td>35</td>\n",
       "      <td>14</td>\n",
       "      <td>2015-08-21 14:25:23</td>\n",
       "      <td>None</td>\n",
       "    </tr>\n",
       "    <tr>\n",
       "      <th>...</th>\n",
       "      <td>...</td>\n",
       "      <td>...</td>\n",
       "      <td>...</td>\n",
       "      <td>...</td>\n",
       "      <td>...</td>\n",
       "      <td>...</td>\n",
       "      <td>...</td>\n",
       "      <td>...</td>\n",
       "      <td>...</td>\n",
       "      <td>...</td>\n",
       "      <td>...</td>\n",
       "    </tr>\n",
       "    <tr>\n",
       "      <th>127</th>\n",
       "      <td>3502307</td>\n",
       "      <td>Użytkownik Ceneo</td>\n",
       "      <td>Polecam</td>\n",
       "      <td>5/5</td>\n",
       "      <td>5,0/5</td>\n",
       "      <td>[]</td>\n",
       "      <td>[]</td>\n",
       "      <td>0</td>\n",
       "      <td>0</td>\n",
       "      <td>2015-12-29 18:45:09</td>\n",
       "      <td>None</td>\n",
       "    </tr>\n",
       "    <tr>\n",
       "      <th>128</th>\n",
       "      <td>3455136</td>\n",
       "      <td>Użytkownik Ceneo</td>\n",
       "      <td>Polecam</td>\n",
       "      <td>5/5</td>\n",
       "      <td>5,0/5</td>\n",
       "      <td>[]</td>\n",
       "      <td>[]</td>\n",
       "      <td>0</td>\n",
       "      <td>0</td>\n",
       "      <td>2015-12-04 22:52:58</td>\n",
       "      <td>None</td>\n",
       "    </tr>\n",
       "    <tr>\n",
       "      <th>129</th>\n",
       "      <td>3442558</td>\n",
       "      <td>Użytkownik Ceneo</td>\n",
       "      <td>Polecam</td>\n",
       "      <td>5/5</td>\n",
       "      <td>5,0/5</td>\n",
       "      <td>[]</td>\n",
       "      <td>[]</td>\n",
       "      <td>0</td>\n",
       "      <td>0</td>\n",
       "      <td>2015-11-27 13:16:18</td>\n",
       "      <td>None</td>\n",
       "    </tr>\n",
       "    <tr>\n",
       "      <th>130</th>\n",
       "      <td>3430751</td>\n",
       "      <td>Użytkownik Ceneo</td>\n",
       "      <td>Polecam</td>\n",
       "      <td>5/5</td>\n",
       "      <td>5,0/5</td>\n",
       "      <td>[]</td>\n",
       "      <td>[]</td>\n",
       "      <td>0</td>\n",
       "      <td>0</td>\n",
       "      <td>2015-11-21 13:41:11</td>\n",
       "      <td>None</td>\n",
       "    </tr>\n",
       "    <tr>\n",
       "      <th>131</th>\n",
       "      <td>3430195</td>\n",
       "      <td>Użytkownik Ceneo</td>\n",
       "      <td>Polecam</td>\n",
       "      <td>5/5</td>\n",
       "      <td>5,0/5</td>\n",
       "      <td>[]</td>\n",
       "      <td>[]</td>\n",
       "      <td>0</td>\n",
       "      <td>0</td>\n",
       "      <td>2015-11-21 01:09:18</td>\n",
       "      <td>None</td>\n",
       "    </tr>\n",
       "  </tbody>\n",
       "</table>\n",
       "<p>132 rows × 11 columns</p>\n",
       "</div>"
      ],
      "text/plain": [
       "     opinion_id            author recommendations  stars  \\\n",
       "0       3422858  Użytkownik Ceneo         Polecam    5/5   \n",
       "1       3529254            Marcin         Polecam  4,5/5   \n",
       "2       6706897              zedi         Polecam    4/5   \n",
       "3       3580458             Janek         Polecam    5/5   \n",
       "4       3287614            maciej         Polecam    4/5   \n",
       "..          ...               ...             ...    ...   \n",
       "127     3502307  Użytkownik Ceneo         Polecam    5/5   \n",
       "128     3455136  Użytkownik Ceneo         Polecam    5/5   \n",
       "129     3442558  Użytkownik Ceneo         Polecam    5/5   \n",
       "130     3430751  Użytkownik Ceneo         Polecam    5/5   \n",
       "131     3430195  Użytkownik Ceneo         Polecam    5/5   \n",
       "\n",
       "                                               content  \\\n",
       "0    UWAGA, UWAGA do wszystkich zgłaszających probl...   \n",
       "1    Ogólnie spoko, chociaż telefon po wyjęciu z pu...   \n",
       "2    Wady Słaby dźwięk z głośnika głównego - z tyłu...   \n",
       "3    Smartphone szybki i stabilny. Super ekran doty...   \n",
       "4    Generalnie bardzo dobry smartfon, moim zdaniem...   \n",
       "..                                                 ...   \n",
       "127                                              5,0/5   \n",
       "128                                              5,0/5   \n",
       "129                                              5,0/5   \n",
       "130                                              5,0/5   \n",
       "131                                              5,0/5   \n",
       "\n",
       "                                                  pros  \\\n",
       "0                                                   []   \n",
       "1                                                   []   \n",
       "2    [ekran nie do zbicia, wyświetlacza:  design:  ...   \n",
       "3                  [wyświetlacza:  design:  żywotność]   \n",
       "4                                     [funkcjonalność]   \n",
       "..                                                 ...   \n",
       "127                                                 []   \n",
       "128                                                 []   \n",
       "129                                                 []   \n",
       "130                                                 []   \n",
       "131                                                 []   \n",
       "\n",
       "                                                  cons  helpful  unhelpful  \\\n",
       "0                                                   []       57          7   \n",
       "1              [przycisk home - trzeba mocno naciskać]        3          0   \n",
       "2    [bateria lądująca w godzine 100%, czas pracy n...        0          2   \n",
       "3                                                   []       37         16   \n",
       "4                                                   []       35         14   \n",
       "..                                                 ...      ...        ...   \n",
       "127                                                 []        0          0   \n",
       "128                                                 []        0          0   \n",
       "129                                                 []        0          0   \n",
       "130                                                 []        0          0   \n",
       "131                                                 []        0          0   \n",
       "\n",
       "            publish_date        purchase_date  \n",
       "0    2015-11-17 17:55:59                 None  \n",
       "1    2016-01-13 00:44:40  2015-12-27 14:12:05  \n",
       "2    2018-03-14 00:45:39                 None  \n",
       "3    2016-02-12 11:13:47  2016-01-25 12:30:40  \n",
       "4    2015-08-21 14:25:23                 None  \n",
       "..                   ...                  ...  \n",
       "127  2015-12-29 18:45:09                 None  \n",
       "128  2015-12-04 22:52:58                 None  \n",
       "129  2015-11-27 13:16:18                 None  \n",
       "130  2015-11-21 13:41:11                 None  \n",
       "131  2015-11-21 01:09:18                 None  \n",
       "\n",
       "[132 rows x 11 columns]"
      ]
     },
     "execution_count": 44,
     "metadata": {},
     "output_type": "execute_result"
    }
   ],
   "source": [
    "opinions"
   ]
  },
  {
   "cell_type": "markdown",
   "metadata": {},
   "source": [
    "## Podstawowe statystyki"
   ]
  },
  {
   "cell_type": "code",
   "execution_count": 99,
   "metadata": {},
   "outputs": [],
   "source": [
    "opinions.count = opinions.index.size\n",
    "pros_count = opinions.pros.apply(lambda p: None if not p else p).count()\n",
    "cons_count = opinions.cons.apply(lambda c: None if not c else c).count()\n",
    "average_stars = opinions.stars.mean()"
   ]
  },
  {
   "cell_type": "markdown",
   "metadata": {},
   "source": [
    "## Histogram częstości poszczególnych ocen produktu"
   ]
  },
  {
   "cell_type": "code",
   "execution_count": 100,
   "metadata": {},
   "outputs": [],
   "source": [
    "stars_distribution = opinions.stars.value_counts().reindex(list(np.arange(0,5.5,0.5)), fill_value = 0)"
   ]
  },
  {
   "cell_type": "code",
   "execution_count": 101,
   "metadata": {},
   "outputs": [
    {
     "data": {
      "text/plain": [
       "(array([ 0,  1,  2,  3,  4,  5,  6,  7,  8,  9, 10]),\n",
       " [Text(0, 0, '0.0'),\n",
       "  Text(1, 0, '0.5'),\n",
       "  Text(2, 0, '1.0'),\n",
       "  Text(3, 0, '1.5'),\n",
       "  Text(4, 0, '2.0'),\n",
       "  Text(5, 0, '2.5'),\n",
       "  Text(6, 0, '3.0'),\n",
       "  Text(7, 0, '3.5'),\n",
       "  Text(8, 0, '4.0'),\n",
       "  Text(9, 0, '4.5'),\n",
       "  Text(10, 0, '5.0')])"
      ]
     },
     "execution_count": 101,
     "metadata": {},
     "output_type": "execute_result"
    },
    {
     "data": {
      "image/png": "[encoded data removed]",
      "text/plain": [
       "<Figure size 640x480 with 1 Axes>"
      ]
     },
     "metadata": {},
     "output_type": "display_data"
    }
   ],
   "source": [
    "stars_distribution.plot.bar(color = \"pink\")\n",
    "plt.title(\"Histogram częstości gwiazdek w opiniach\")\n",
    "plt.xlabel(\"Liczba gwiazdek\")\n",
    "plt.ylabel(\"Liczba opinii\")\n",
    "plt.xticks(rotation = 45)"
   ]
  },
  {
   "cell_type": "markdown",
   "metadata": {},
   "source": [
    "## Udział poszczególnych rekomendacji w ogólnej liczbie opinii"
   ]
  },
  {
   "cell_type": "code",
   "execution_count": 106,
   "metadata": {},
   "outputs": [
    {
     "data": {
      "text/plain": [
       "recommendations\n",
       "Polecam              114\n",
       "Brak rekomendacji     11\n",
       "Nie polecam            7\n",
       "Name: count, dtype: int64"
      ]
     },
     "execution_count": 106,
     "metadata": {},
     "output_type": "execute_result"
    }
   ],
   "source": [
    "recommendations_distribution = opinions.recommendations.value_counts(dropna = False).reindex([\"Polecam\",\"Brak rekomendacji\",\"Nie polecam\"], fill_value = 0)\n",
    "recommendations_distribution"
   ]
  },
  {
   "cell_type": "code",
   "execution_count": 107,
   "metadata": {},
   "outputs": [
    {
     "data": {
      "text/plain": [
       "Text(0.5, 1.0, 'Udział rekomendacji w opiniach')"
      ]
     },
     "execution_count": 107,
     "metadata": {},
     "output_type": "execute_result"
    },
    {
     "data": {
      "image/png": "[encoded data removed]",
      "text/plain": [
       "<Figure size 640x480 with 1 Axes>"
      ]
     },
     "metadata": {},
     "output_type": "display_data"
    }
   ],
   "source": [
    "recommendations_distribution.plot.pie(\n",
    "    colors = [\"lightpink\",\"mistyrose\",\"palevioletred\"],\n",
    "    label = \"\",\n",
    "    autopct = \"%1.1f%%\"\n",
    ")\n",
    "plt.title(\"Udział rekomendacji w opiniach\")"
   ]
  }
 ],
 "metadata": {
  "kernelspec": {
   "display_name": ".venv",
   "language": "python",
   "name": "python3"
  },
  "language_info": {
   "codemirror_mode": {
    "name": "ipython",
    "version": 3
   },
   "file_extension": ".py",
   "mimetype": "text/x-python",
   "name": "python",
   "nbconvert_exporter": "python",
   "pygments_lexer": "ipython3",
   "version": "3.11.4"
  }
 },
 "nbformat": 4,
 "nbformat_minor": 2
}
